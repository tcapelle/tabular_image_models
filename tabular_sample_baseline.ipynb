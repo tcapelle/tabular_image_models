{
 "cells": [
  {
   "cell_type": "code",
   "execution_count": 183,
   "metadata": {},
   "outputs": [
    {
     "name": "stdout",
     "output_type": "stream",
     "text": [
      "The autoreload extension is already loaded. To reload it, use:\n",
      "  %reload_ext autoreload\n"
     ]
    }
   ],
   "source": [
    "%load_ext autoreload\n",
    "%autoreload 2"
   ]
  },
  {
   "cell_type": "markdown",
   "metadata": {},
   "source": [
    "# Tabular Only Baseline"
   ]
  },
  {
   "cell_type": "code",
   "execution_count": 184,
   "metadata": {},
   "outputs": [],
   "source": [
    "import fastai\n",
    "from fastai import *\n",
    "from fastai.callbacks import SaveModelCallback\n",
    "from fastai.tabular import *\n",
    "from pathlib import Path\n",
    "from cape_core.data import *\n",
    "from cape_core.utils import *"
   ]
  },
  {
   "cell_type": "code",
   "execution_count": 185,
   "metadata": {},
   "outputs": [
    {
     "data": {
      "text/plain": [
       "[PosixPath('/home/tc256760/Documents/Tabular_image_model/Sample Models/feat_xr34_512_zoom20_256'),\n",
       " PosixPath('/home/tc256760/Documents/Tabular_image_model/Sample Models/zoom15'),\n",
       " PosixPath('/home/tc256760/Documents/Tabular_image_model/Sample Models/tabular_feature_sample-Copy1.ipynb'),\n",
       " PosixPath('/home/tc256760/Documents/Tabular_image_model/Sample Models/labels_sample'),\n",
       " PosixPath('/home/tc256760/Documents/Tabular_image_model/Sample Models/feat_xr34_512_zoom15_256'),\n",
       " PosixPath('/home/tc256760/Documents/Tabular_image_model/Sample Models/train_classifier.py'),\n",
       " PosixPath('/home/tc256760/Documents/Tabular_image_model/Sample Models/tabular_sample_baseline.ipynb'),\n",
       " PosixPath('/home/tc256760/Documents/Tabular_image_model/Sample Models/tabular_feature_sample.ipynb'),\n",
       " PosixPath('/home/tc256760/Documents/Tabular_image_model/Sample Models/.ipynb_checkpoints'),\n",
       " PosixPath('/home/tc256760/Documents/Tabular_image_model/Sample Models/classifier_sample-refactor.ipynb'),\n",
       " PosixPath('/home/tc256760/Documents/Tabular_image_model/Sample Models/image_check.ipynb'),\n",
       " PosixPath('/home/tc256760/Documents/Tabular_image_model/Sample Models/models'),\n",
       " PosixPath('/home/tc256760/Documents/Tabular_image_model/Sample Models/tabular_image_sample.ipynb'),\n",
       " PosixPath('/home/tc256760/Documents/Tabular_image_model/Sample Models/classifier_sample.ipynb'),\n",
       " PosixPath('/home/tc256760/Documents/Tabular_image_model/Sample Models/zoom20_256'),\n",
       " PosixPath('/home/tc256760/Documents/Tabular_image_model/Sample Models/classifier_sample-avgprice.ipynb'),\n",
       " PosixPath('/home/tc256760/Documents/Tabular_image_model/Sample Models/feat_xr34_512_zoom18_256'),\n",
       " PosixPath('/home/tc256760/Documents/Tabular_image_model/Sample Models/zoom18_256'),\n",
       " PosixPath('/home/tc256760/Documents/Tabular_image_model/Sample Models/df_train_sample.pkl'),\n",
       " PosixPath('/home/tc256760/Documents/Tabular_image_model/Sample Models/zoom20'),\n",
       " PosixPath('/home/tc256760/Documents/Tabular_image_model/Sample Models/feature_baseline-Copy1.ipynb'),\n",
       " PosixPath('/home/tc256760/Documents/Tabular_image_model/Sample Models/zoom18'),\n",
       " PosixPath('/home/tc256760/Documents/Tabular_image_model/Sample Models/df_valid_sample.pkl'),\n",
       " PosixPath('/home/tc256760/Documents/Tabular_image_model/Sample Models/feature_baseline.ipynb'),\n",
       " PosixPath('/home/tc256760/Documents/Tabular_image_model/Sample Models/MNIST_autoencoder.ipynb'),\n",
       " PosixPath('/home/tc256760/Documents/Tabular_image_model/Sample Models/__pycache__'),\n",
       " PosixPath('/home/tc256760/Documents/Tabular_image_model/Sample Models/features'),\n",
       " PosixPath('/home/tc256760/Documents/Tabular_image_model/Sample Models/cape_core'),\n",
       " PosixPath('/home/tc256760/Documents/Tabular_image_model/Sample Models/zoom15_256'),\n",
       " PosixPath('/home/tc256760/Documents/Tabular_image_model/Sample Models/autoencoder.ipynb')]"
      ]
     },
     "execution_count": 185,
     "metadata": {},
     "output_type": "execute_result"
    }
   ],
   "source": [
    "PATH = Path.cwd()\n",
    "PATH.ls()"
   ]
  },
  {
   "cell_type": "markdown",
   "metadata": {},
   "source": [
    "# Model"
   ]
  },
  {
   "cell_type": "code",
   "execution_count": 186,
   "metadata": {
    "scrolled": true
   },
   "outputs": [
    {
     "data": {
      "text/html": [
       "<div>\n",
       "<style scoped>\n",
       "    .dataframe tbody tr th:only-of-type {\n",
       "        vertical-align: middle;\n",
       "    }\n",
       "\n",
       "    .dataframe tbody tr th {\n",
       "        vertical-align: top;\n",
       "    }\n",
       "\n",
       "    .dataframe thead th {\n",
       "        text-align: right;\n",
       "    }\n",
       "</style>\n",
       "<table border=\"1\" class=\"dataframe\">\n",
       "  <thead>\n",
       "    <tr style=\"text-align: right;\">\n",
       "      <th></th>\n",
       "      <th>p_ab_rs_band</th>\n",
       "      <th>p_90_rs_band</th>\n",
       "      <th>dont_use_rs</th>\n",
       "      <th>p_ab_cs_band</th>\n",
       "      <th>p_90_cs_band</th>\n",
       "      <th>dont_use_cs</th>\n",
       "      <th>p_ab_3party_band</th>\n",
       "      <th>p_90_3party_band</th>\n",
       "      <th>dont_use_3party</th>\n",
       "      <th>prop_aursrc</th>\n",
       "      <th>...</th>\n",
       "      <th>cad_id</th>\n",
       "      <th>prop_id</th>\n",
       "      <th>asatdate</th>\n",
       "      <th>prop_titledeedtype</th>\n",
       "      <th>estate_id</th>\n",
       "      <th>sgr_id</th>\n",
       "      <th>suburb_id</th>\n",
       "      <th>trf_purchprice</th>\n",
       "      <th>prop_munvalinfl</th>\n",
       "      <th>train</th>\n",
       "    </tr>\n",
       "  </thead>\n",
       "  <tbody>\n",
       "    <tr>\n",
       "      <th>0</th>\n",
       "      <td>8</td>\n",
       "      <td>10</td>\n",
       "      <td>0</td>\n",
       "      <td>4</td>\n",
       "      <td>7</td>\n",
       "      <td>0</td>\n",
       "      <td>0</td>\n",
       "      <td>0</td>\n",
       "      <td>1</td>\n",
       "      <td>9</td>\n",
       "      <td>...</td>\n",
       "      <td>6905651</td>\n",
       "      <td>11944540</td>\n",
       "      <td>2017-04-15</td>\n",
       "      <td>FH</td>\n",
       "      <td>0.0</td>\n",
       "      <td>0</td>\n",
       "      <td>9834.0</td>\n",
       "      <td>1550000.0</td>\n",
       "      <td>0.0</td>\n",
       "      <td>True</td>\n",
       "    </tr>\n",
       "    <tr>\n",
       "      <th>1</th>\n",
       "      <td>8</td>\n",
       "      <td>9</td>\n",
       "      <td>0</td>\n",
       "      <td>6</td>\n",
       "      <td>8</td>\n",
       "      <td>0</td>\n",
       "      <td>0</td>\n",
       "      <td>0</td>\n",
       "      <td>1</td>\n",
       "      <td>7</td>\n",
       "      <td>...</td>\n",
       "      <td>4669236</td>\n",
       "      <td>11360646</td>\n",
       "      <td>2017-09-11</td>\n",
       "      <td>FH</td>\n",
       "      <td>0.0</td>\n",
       "      <td>0</td>\n",
       "      <td>3496.0</td>\n",
       "      <td>900000.0</td>\n",
       "      <td>0.0</td>\n",
       "      <td>True</td>\n",
       "    </tr>\n",
       "    <tr>\n",
       "      <th>2</th>\n",
       "      <td>8</td>\n",
       "      <td>8</td>\n",
       "      <td>0</td>\n",
       "      <td>7</td>\n",
       "      <td>10</td>\n",
       "      <td>0</td>\n",
       "      <td>0</td>\n",
       "      <td>0</td>\n",
       "      <td>1</td>\n",
       "      <td>17</td>\n",
       "      <td>...</td>\n",
       "      <td>1057686</td>\n",
       "      <td>11435648</td>\n",
       "      <td>2017-02-08</td>\n",
       "      <td>FH</td>\n",
       "      <td>0.0</td>\n",
       "      <td>0</td>\n",
       "      <td>48.0</td>\n",
       "      <td>1995000.0</td>\n",
       "      <td>0.0</td>\n",
       "      <td>True</td>\n",
       "    </tr>\n",
       "    <tr>\n",
       "      <th>3</th>\n",
       "      <td>9</td>\n",
       "      <td>10</td>\n",
       "      <td>0</td>\n",
       "      <td>7</td>\n",
       "      <td>8</td>\n",
       "      <td>0</td>\n",
       "      <td>0</td>\n",
       "      <td>0</td>\n",
       "      <td>1</td>\n",
       "      <td>17</td>\n",
       "      <td>...</td>\n",
       "      <td>5487873</td>\n",
       "      <td>15736748</td>\n",
       "      <td>2017-11-07</td>\n",
       "      <td>FH</td>\n",
       "      <td>0.0</td>\n",
       "      <td>0</td>\n",
       "      <td>5545.0</td>\n",
       "      <td>900000.0</td>\n",
       "      <td>0.0</td>\n",
       "      <td>True</td>\n",
       "    </tr>\n",
       "    <tr>\n",
       "      <th>4</th>\n",
       "      <td>8</td>\n",
       "      <td>8</td>\n",
       "      <td>0</td>\n",
       "      <td>6</td>\n",
       "      <td>8</td>\n",
       "      <td>0</td>\n",
       "      <td>0</td>\n",
       "      <td>0</td>\n",
       "      <td>1</td>\n",
       "      <td>7</td>\n",
       "      <td>...</td>\n",
       "      <td>168364</td>\n",
       "      <td>9485339</td>\n",
       "      <td>2017-10-17</td>\n",
       "      <td>FH</td>\n",
       "      <td>0.0</td>\n",
       "      <td>0</td>\n",
       "      <td>4339.0</td>\n",
       "      <td>1230000.0</td>\n",
       "      <td>939320.0</td>\n",
       "      <td>True</td>\n",
       "    </tr>\n",
       "  </tbody>\n",
       "</table>\n",
       "<p>5 rows × 62 columns</p>\n",
       "</div>"
      ],
      "text/plain": [
       "   p_ab_rs_band  p_90_rs_band  dont_use_rs  p_ab_cs_band  p_90_cs_band  \\\n",
       "0             8            10            0             4             7   \n",
       "1             8             9            0             6             8   \n",
       "2             8             8            0             7            10   \n",
       "3             9            10            0             7             8   \n",
       "4             8             8            0             6             8   \n",
       "\n",
       "   dont_use_cs  p_ab_3party_band  p_90_3party_band  dont_use_3party  \\\n",
       "0            0                 0                 0                1   \n",
       "1            0                 0                 0                1   \n",
       "2            0                 0                 0                1   \n",
       "3            0                 0                 0                1   \n",
       "4            0                 0                 0                1   \n",
       "\n",
       "   prop_aursrc  ...   cad_id   prop_id   asatdate  prop_titledeedtype  \\\n",
       "0            9  ...  6905651  11944540 2017-04-15                  FH   \n",
       "1            7  ...  4669236  11360646 2017-09-11                  FH   \n",
       "2           17  ...  1057686  11435648 2017-02-08                  FH   \n",
       "3           17  ...  5487873  15736748 2017-11-07                  FH   \n",
       "4            7  ...   168364   9485339 2017-10-17                  FH   \n",
       "\n",
       "   estate_id  sgr_id  suburb_id  trf_purchprice  prop_munvalinfl  train  \n",
       "0        0.0       0     9834.0       1550000.0              0.0   True  \n",
       "1        0.0       0     3496.0        900000.0              0.0   True  \n",
       "2        0.0       0       48.0       1995000.0              0.0   True  \n",
       "3        0.0       0     5545.0        900000.0              0.0   True  \n",
       "4        0.0       0     4339.0       1230000.0         939320.0   True  \n",
       "\n",
       "[5 rows x 62 columns]"
      ]
     },
     "execution_count": 186,
     "metadata": {},
     "output_type": "execute_result"
    }
   ],
   "source": [
    "data = get_data(PATH).drop('index', axis=1).reset_index(drop=True); data.head()\n",
    "# data = data[data.sgr_id>0].reset_index(drop=True)"
   ]
  },
  {
   "cell_type": "code",
   "execution_count": 187,
   "metadata": {},
   "outputs": [],
   "source": [
    "cat_names = ['prop_aursrc','prop_modseg','asatMonth','prop_lastpurchMonth',\n",
    "             'estate_id','prop_munvalYear','prop_lastpurchYear','dont_use_rs','asatElapsed','p_90_cs_band',\n",
    "            'prop_bedrooms','date_3partyYear','asatYear','p_ab_final_3party_band','p_90_rs_band','p_90_3party_band',\n",
    "             'p_ab_rs_band','date_rsYear','p_90_final_3party_band','dont_use_cs','prop_bathrooms','dont_use_3party',\n",
    "            'p_ab_cs_band','p_ab_3party_band','munic_id','suburb_id']\n",
    "cont_names = ['pct_offprops_cdn',\n",
    "             'prop_munvalinfl',\n",
    "             'prop_munval',\n",
    "             'prop_lastpurchpriceinfl',\n",
    "             'prop_firstlistingElapsedMonthsToDate',\n",
    "             'prop_minlistingprice',\n",
    "             'area_volotprecent',\n",
    "             'distancemtoairportint',\n",
    "             'predval_cs',\n",
    "             'x',\n",
    "             'predval_3party',\n",
    "             'prop_recentotp',\n",
    "             'estateschemedensity',\n",
    "             'prop_aur',\n",
    "             'area_maxlistingrecent',\n",
    "             'cad_metersfromwater',\n",
    "             'area_minlistingrecent',            \n",
    "             'area_avglistingvaluerecent',\n",
    "             'prop_age',\n",
    "             'predval_final_3party',\n",
    "             'distancemtolargeretailcentre',\n",
    "             'area_avgotprecent',\n",
    "             'y',        \n",
    "             'predval_rs',\n",
    "             'cad_metersfromcoast',\n",
    "             'prop_recentotpElapsedMonthsToDate',\n",
    "             'slope',   \n",
    "             'cad_sqm',\n",
    "             'distancemtomediumretailcentre']"
   ]
  },
  {
   "cell_type": "code",
   "execution_count": 188,
   "metadata": {},
   "outputs": [
    {
     "data": {
      "text/plain": [
       "tensor([12.0000, 15.6073], device='cuda:0')"
      ]
     },
     "execution_count": 188,
     "metadata": {},
     "output_type": "execute_result"
    }
   ],
   "source": [
    "dep_var='trf_purchprice'\n",
    "procs = [FillMissing, Categorify, Normalize]\n",
    "max_log_y = np.log(np.max(data[dep_var])*1.2)\n",
    "y_range = torch.tensor([12, max_log_y], device=defaults.device); y_range"
   ]
  },
  {
   "cell_type": "code",
   "execution_count": 189,
   "metadata": {},
   "outputs": [],
   "source": [
    "df = data[cont_names+cat_names+[dep_var]]"
   ]
  },
  {
   "cell_type": "code",
   "execution_count": 190,
   "metadata": {},
   "outputs": [],
   "source": [
    "val_idxs = data[~data['train']].index"
   ]
  },
  {
   "cell_type": "code",
   "execution_count": 191,
   "metadata": {},
   "outputs": [
    {
     "data": {
      "text/plain": [
       "Int64Index([80000, 80001, 80002, 80003, 80004, 80005, 80006, 80007, 80008,\n",
       "            80009,\n",
       "            ...\n",
       "            99990, 99991, 99992, 99993, 99994, 99995, 99996, 99997, 99998,\n",
       "            99999],\n",
       "           dtype='int64', length=20000)"
      ]
     },
     "execution_count": 191,
     "metadata": {},
     "output_type": "execute_result"
    }
   ],
   "source": [
    "val_idxs"
   ]
  },
  {
   "cell_type": "code",
   "execution_count": 192,
   "metadata": {},
   "outputs": [
    {
     "data": {
      "text/plain": [
       "(100000, 56)"
      ]
     },
     "execution_count": 192,
     "metadata": {},
     "output_type": "execute_result"
    }
   ],
   "source": [
    "df.shape"
   ]
  },
  {
   "cell_type": "code",
   "execution_count": 193,
   "metadata": {},
   "outputs": [],
   "source": [
    "# cat_names = ['prop_lastpurchYear',\n",
    "#             'prop_bedrooms',\n",
    "#              'prop_bathrooms']\n",
    "# cont_names = ['prop_aur',\n",
    "#              'prop_age']\n",
    "\n",
    "tdata = TabularList.from_df(df, \n",
    "                            procs=procs, \n",
    "                            cat_names=cat_names, \n",
    "                            cont_names=cont_names).split_by_idx(val_idxs)"
   ]
  },
  {
   "cell_type": "code",
   "execution_count": 194,
   "metadata": {},
   "outputs": [],
   "source": [
    "#this line takes forever!\n",
    "tdata = tdata.label_from_df(cols=dep_var,label_cls=FloatList, log=True)\n",
    "tdata = tdata.databunch(bs=512, num_workers=6)"
   ]
  },
  {
   "cell_type": "code",
   "execution_count": 195,
   "metadata": {},
   "outputs": [],
   "source": [
    "x,y = tdata.one_batch()"
   ]
  },
  {
   "cell_type": "code",
   "execution_count": 196,
   "metadata": {},
   "outputs": [
    {
     "data": {
      "text/plain": [
       "torch.Size([512])"
      ]
     },
     "execution_count": 196,
     "metadata": {},
     "output_type": "execute_result"
    }
   ],
   "source": [
    "y.shape"
   ]
  },
  {
   "cell_type": "markdown",
   "metadata": {},
   "source": [
    "# Train"
   ]
  },
  {
   "cell_type": "code",
   "execution_count": 197,
   "metadata": {},
   "outputs": [],
   "source": [
    "tlearn = tabular_learner(tdata, \n",
    "                         layers= [1000, 500],  \n",
    "                         y_range=y_range, \n",
    "                         emb_drop=0.1,\n",
    "                         loss_func=L1Flat(),\n",
    "                         metrics=[exp_rmspe, exp_rmse, r2_score]\n",
    "                        ).to_fp16(clip=2)"
   ]
  },
  {
   "cell_type": "code",
   "execution_count": 198,
   "metadata": {},
   "outputs": [
    {
     "data": {
      "text/plain": [
       "FlattenedLoss of L1Loss()"
      ]
     },
     "execution_count": 198,
     "metadata": {},
     "output_type": "execute_result"
    }
   ],
   "source": [
    "tlearn.loss_func"
   ]
  },
  {
   "cell_type": "code",
   "execution_count": 199,
   "metadata": {},
   "outputs": [
    {
     "data": {
      "text/html": [],
      "text/plain": [
       "<IPython.core.display.HTML object>"
      ]
     },
     "metadata": {},
     "output_type": "display_data"
    },
    {
     "name": "stdout",
     "output_type": "stream",
     "text": [
      "LR Finder is complete, type {learner_name}.recorder.plot() to see the graph.\n"
     ]
    },
    {
     "data": {
      "image/png": "[encoded data removed]",
      "text/plain": [
       "<Figure size 432x288 with 1 Axes>"
      ]
     },
     "metadata": {
      "needs_background": "light"
     },
     "output_type": "display_data"
    }
   ],
   "source": [
    "tlearn.lr_find(); tlearn.recorder.plot()"
   ]
  },
  {
   "cell_type": "code",
   "execution_count": 200,
   "metadata": {
    "scrolled": false
   },
   "outputs": [
    {
     "data": {
      "text/html": [
       "<table border=\"1\" class=\"dataframe\">\n",
       "  <thead>\n",
       "    <tr style=\"text-align: left;\">\n",
       "      <th>epoch</th>\n",
       "      <th>train_loss</th>\n",
       "      <th>valid_loss</th>\n",
       "      <th>exp_rmspe</th>\n",
       "      <th>exp_rmse</th>\n",
       "      <th>r2_score</th>\n",
       "      <th>time</th>\n",
       "    </tr>\n",
       "  </thead>\n",
       "  <tbody>\n",
       "    <tr>\n",
       "      <td>0</td>\n",
       "      <td>0.207144</td>\n",
       "      <td>0.190958</td>\n",
       "      <td>0.312442</td>\n",
       "      <td>419906.593750</td>\n",
       "      <td>0.790845</td>\n",
       "      <td>00:03</td>\n",
       "    </tr>\n",
       "    <tr>\n",
       "      <td>1</td>\n",
       "      <td>0.183182</td>\n",
       "      <td>0.187608</td>\n",
       "      <td>0.358556</td>\n",
       "      <td>413941.562500</td>\n",
       "      <td>0.797778</td>\n",
       "      <td>00:03</td>\n",
       "    </tr>\n",
       "    <tr>\n",
       "      <td>2</td>\n",
       "      <td>0.164364</td>\n",
       "      <td>0.153290</td>\n",
       "      <td>0.304415</td>\n",
       "      <td>367269.937500</td>\n",
       "      <td>0.844538</td>\n",
       "      <td>00:03</td>\n",
       "    </tr>\n",
       "    <tr>\n",
       "      <td>3</td>\n",
       "      <td>0.152596</td>\n",
       "      <td>0.149660</td>\n",
       "      <td>0.272378</td>\n",
       "      <td>352915.093750</td>\n",
       "      <td>0.856347</td>\n",
       "      <td>00:03</td>\n",
       "    </tr>\n",
       "    <tr>\n",
       "      <td>4</td>\n",
       "      <td>0.142144</td>\n",
       "      <td>0.159175</td>\n",
       "      <td>0.313392</td>\n",
       "      <td>355054.187500</td>\n",
       "      <td>0.841317</td>\n",
       "      <td>00:03</td>\n",
       "    </tr>\n",
       "    <tr>\n",
       "      <td>5</td>\n",
       "      <td>0.135143</td>\n",
       "      <td>0.164289</td>\n",
       "      <td>0.306221</td>\n",
       "      <td>370836.718750</td>\n",
       "      <td>0.836814</td>\n",
       "      <td>00:03</td>\n",
       "    </tr>\n",
       "    <tr>\n",
       "      <td>6</td>\n",
       "      <td>0.126349</td>\n",
       "      <td>0.183512</td>\n",
       "      <td>0.357470</td>\n",
       "      <td>396891.906250</td>\n",
       "      <td>0.795769</td>\n",
       "      <td>00:03</td>\n",
       "    </tr>\n",
       "    <tr>\n",
       "      <td>7</td>\n",
       "      <td>0.120434</td>\n",
       "      <td>0.192550</td>\n",
       "      <td>0.352384</td>\n",
       "      <td>389430.968750</td>\n",
       "      <td>0.789071</td>\n",
       "      <td>00:03</td>\n",
       "    </tr>\n",
       "    <tr>\n",
       "      <td>8</td>\n",
       "      <td>0.110975</td>\n",
       "      <td>0.155257</td>\n",
       "      <td>0.301722</td>\n",
       "      <td>350796.437500</td>\n",
       "      <td>0.842860</td>\n",
       "      <td>00:03</td>\n",
       "    </tr>\n",
       "    <tr>\n",
       "      <td>9</td>\n",
       "      <td>0.106822</td>\n",
       "      <td>0.158044</td>\n",
       "      <td>0.308816</td>\n",
       "      <td>355594.250000</td>\n",
       "      <td>0.839914</td>\n",
       "      <td>00:03</td>\n",
       "    </tr>\n",
       "    <tr>\n",
       "      <td>10</td>\n",
       "      <td>0.101044</td>\n",
       "      <td>0.143258</td>\n",
       "      <td>0.279383</td>\n",
       "      <td>348051.625000</td>\n",
       "      <td>0.861403</td>\n",
       "      <td>00:03</td>\n",
       "    </tr>\n",
       "    <tr>\n",
       "      <td>11</td>\n",
       "      <td>0.099130</td>\n",
       "      <td>0.158388</td>\n",
       "      <td>0.308216</td>\n",
       "      <td>359912.000000</td>\n",
       "      <td>0.839405</td>\n",
       "      <td>00:03</td>\n",
       "    </tr>\n",
       "  </tbody>\n",
       "</table>"
      ],
      "text/plain": [
       "<IPython.core.display.HTML object>"
      ]
     },
     "metadata": {},
     "output_type": "display_data"
    },
    {
     "name": "stdout",
     "output_type": "stream",
     "text": [
      "Better model found at epoch 0 with exp_rmspe value: 0.31244200468063354.\n",
      "Better model found at epoch 2 with exp_rmspe value: 0.30441534519195557.\n",
      "Better model found at epoch 3 with exp_rmspe value: 0.27237769961357117.\n"
     ]
    }
   ],
   "source": [
    "tlearn.fit_one_cycle(12, \n",
    "                     1e-3, \n",
    "                     callbacks=[SaveModelCallback(tlearn, monitor='exp_rmspe', mode='min', name='best_tabular')])"
   ]
  },
  {
   "cell_type": "code",
   "execution_count": 201,
   "metadata": {},
   "outputs": [],
   "source": [
    "tlearn.load('best_tabular');"
   ]
  },
  {
   "cell_type": "code",
   "execution_count": 202,
   "metadata": {},
   "outputs": [],
   "source": [
    "p, t = tlearn.get_preds(DatasetType.Valid)"
   ]
  },
  {
   "cell_type": "code",
   "execution_count": 203,
   "metadata": {},
   "outputs": [
    {
     "name": "stdout",
     "output_type": "stream",
     "text": [
      "\n",
      "RMSE (log y): 0.22606928646564484\n",
      "RMSE : 354812.59375\n",
      "RMSPE (log y): 0.016295624896883965\n",
      "RMSPE: 0.2760637402534485\n",
      "\n",
      "Data size : (20000,)\n",
      "Performance Accuracy (A: Within 10%, B: Within 20%, etc)\n",
      "A    0.50305\n",
      "B    0.27120\n",
      "C    0.10660\n",
      "D    0.05190\n",
      "E    0.06725\n",
      "dtype: float64\n",
      "\n",
      "Data Set size : (20000,)\n",
      "Performance Accuracy\n",
      "1: % Error < 20%    0.77425\n",
      "2: % Error > 20%    0.22575\n",
      "dtype: float64\n",
      "\n",
      "Summary:\n",
      "RMSE : 354812.59375\n",
      "RMSPE: 0.2760637402534485\n",
      "%A: 0.50305\n",
      "%AB: 0.77425\n",
      "Proportion Under Valuations: 0.54715\n"
     ]
    }
   ],
   "source": [
    "print_stats(p,t)"
   ]
  },
  {
   "cell_type": "code",
   "execution_count": null,
   "metadata": {},
   "outputs": [],
   "source": []
  }
 ],
 "metadata": {
  "kernelspec": {
   "display_name": "Python 3",
   "language": "python",
   "name": "python3"
  },
  "language_info": {
   "codemirror_mode": {
    "name": "ipython",
    "version": 3
   },
   "file_extension": ".py",
   "mimetype": "text/x-python",
   "name": "python",
   "nbconvert_exporter": "python",
   "pygments_lexer": "ipython3",
   "version": "3.7.4"
  }
 },
 "nbformat": 4,
 "nbformat_minor": 2
}
